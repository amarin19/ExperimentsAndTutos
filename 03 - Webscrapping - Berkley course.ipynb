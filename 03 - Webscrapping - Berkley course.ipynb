{
 "cells": [
  {
   "cell_type": "code",
   "execution_count": 1,
   "metadata": {
    "collapsed": true
   },
   "outputs": [],
   "source": [
    "import urllib\n",
    "import BeautifulSoup as BS"
   ]
  },
  {
   "cell_type": "code",
   "execution_count": 2,
   "metadata": {
    "scrolled": false
   },
   "outputs": [
    {
     "data": {
      "text/plain": [
       "['Day', 'Topic', 'Optional Reading', 'Slides', 'Videos', 'Assignment', 'Due']"
      ]
     },
     "execution_count": 2,
     "metadata": {},
     "output_type": "execute_result"
    }
   ],
   "source": [
    "#Open the page:\n",
    "pagina = urllib.urlopen('http://ai.berkeley.edu/course_schedule.html').read()\n",
    "\n",
    "#We know the interesting thing is stored in a table so we look for the table. \n",
    "#We know that the table starts by '<table id = \"syllabus\">' so we start there \n",
    "#and we finish in the end of '</table>'.\n",
    "paginabe = pagina[pagina.find('<table id=\"syllabus\">'):\n",
    "                  pagina.find('</table>')+7]\n",
    "\n",
    "#We'll work easier with this web scrapper tool:\n",
    "paginabe = BS.BeautifulSoup(paginabe)\n",
    "\n",
    "#We don't know the names of the rows so let's look them up:\n",
    "headings = [str(th.getText()) for th in paginabe\n",
    "            .find(\"table\", attrs={\"id\":\"syllabus\"})\n",
    "            .find(\"tr\").findAll(\"td\")]\n",
    "headings"
   ]
  },
  {
   "cell_type": "code",
   "execution_count": 3,
   "metadata": {},
   "outputs": [],
   "source": [
    "#We don't care about the optional reading, the due or \n",
    "#the day so let's store the rest\n",
    "topics, slides, videos, hws = [], [], [], []\n",
    "\n",
    "#Topics:\n",
    "for r in paginabe.findAll(\"td\", attrs = {\"class\":\"topic\"})[1:]:\n",
    "    R = str(r.getText())\n",
    "    if R == '&nbsp;' or R == 'Spring Break':\n",
    "        pass\n",
    "    else:\n",
    "        if \"/\" in R:\n",
    "            R.replace(\"/\", \"and\")\n",
    "        topics.append(R)\n",
    "\n",
    "#Store the links:\n",
    "for r in paginabe.findAll(\"a\"):\n",
    "    R = str(r.get('href'))\n",
    "    T = str(r.getText())\n",
    "    if 'pptx' in R:\n",
    "        slides.append('http://ai.berkeley.edu/'+R)\n",
    "    elif 'youtube' in R:\n",
    "        videos.append(['SBS - '+R if 'SBS' in T else R])\n",
    "    elif 'pdf' in R:\n",
    "        hws.append(R)"
   ]
  },
  {
   "cell_type": "code",
   "execution_count": 4,
   "metadata": {},
   "outputs": [
    {
     "name": "stdout",
     "output_type": "stream",
     "text": [
      "File 1 of 26...\n",
      "File 2 of 26...\n",
      "File 3 of 26...\n",
      "File 4 of 26...\n",
      "File 5 of 26...\n",
      "File 6 of 26...\n",
      "File 7 of 26...\n",
      "File 8 of 26...\n",
      "File 9 of 26...\n",
      "File 10 of 26...\n",
      "File 11 of 26...\n",
      "File 12 of 26...\n",
      "File 13 of 26...\n",
      "File 14 of 26...\n",
      "File 15 of 26...\n",
      "File 16 of 26...\n",
      "File 17 of 26...\n",
      "File 18 of 26...\n",
      "File 19 of 26...\n",
      "File 20 of 26...\n",
      "File 21 of 26...\n",
      "File 22 of 26...\n",
      "File 23 of 26...\n",
      "File 24 of 26...\n",
      "File 25 of 26...\n",
      "File 26 of 26...\n",
      "Slides saved!\n",
      "\n",
      "Youtube references saved!\n",
      "\n",
      "File 1 of 36...\n",
      "File 2 of 36...\n",
      "File 3 of 36...\n",
      "File 4 of 36...\n",
      "File 5 of 36...\n",
      "File 6 of 36...\n",
      "File 7 of 36...\n",
      "File 8 of 36...\n",
      "File 9 of 36...\n",
      "File 10 of 36...\n",
      "File 11 of 36...\n",
      "File 12 of 36...\n",
      "File 13 of 36...\n",
      "File 14 of 36...\n",
      "File 15 of 36...\n",
      "File 16 of 36...\n",
      "File 17 of 36...\n",
      "File 18 of 36...\n",
      "File 19 of 36...\n",
      "File 20 of 36...\n",
      "File 21 of 36...\n",
      "File 22 of 36...\n",
      "File 23 of 36...\n",
      "File 24 of 36...\n",
      "File 25 of 36...\n",
      "File 26 of 36...\n",
      "File 27 of 36...\n",
      "File 28 of 36...\n",
      "File 29 of 36...\n",
      "File 30 of 36...\n",
      "File 31 of 36...\n",
      "File 32 of 36...\n",
      "File 33 of 36...\n",
      "File 34 of 36...\n",
      "File 35 of 36...\n",
      "File 36 of 36...\n",
      "Homework and exams saved!\n",
      "\n"
     ]
    }
   ],
   "source": [
    "#Store the material:\n",
    "#%mkdir Slides Homework Videos #RUN THIS ONLY ONCE\n",
    "\n",
    "#Slides:\n",
    "a, b = 1, len(slides)\n",
    "\n",
    "for H,T in zip(slides, topics):\n",
    "    print('File {} of {}...'.format(a, b))\n",
    "    urllib.urlretrieve(H.replace(' ','%20'),\n",
    "                       'Slides/Lecture {:02d} - {}.pptx'.format(a,T))\n",
    "    a += 1\n",
    "print('Slides saved!\\n')\n",
    "\n",
    "#Video links:\n",
    "txt = open('Videos/Videos.txt', 'w')\n",
    "a = 1\n",
    "for l in videos:\n",
    "    txt.write('Video {}:\\t{}\\n'.format(a,\"\".join(l)))\n",
    "    a += 1\n",
    "txt.close()\n",
    "print('Youtube references saved!\\n')\n",
    "\n",
    "#Homework:\n",
    "a, c, b = 1, 1, len(hws)\n",
    "for H in hws:\n",
    "    print('File {} of {}...'.format(c, b))\n",
    "    if 'exam' in H:\n",
    "        if 'solutions' not in H:\n",
    "            name = ''\n",
    "        else:\n",
    "            name = '- Solution'\n",
    "        urllib.urlretrieve(H, 'Exam {} {}.pdf'.format(a, name))\n",
    "        a += (c-1)%2\n",
    "    else:\n",
    "        idx = H[H.find('n_')+2:H.find('n_')+4]\n",
    "        try:\n",
    "            n = int(idx)\n",
    "        except:\n",
    "            n = int(idx[0])\n",
    "        \n",
    "        if 'solution' not in H:\n",
    "            name = 'Section - {}'.format(n)\n",
    "        else:\n",
    "            name = 'Section - {} solution'.format(n)\n",
    "        urllib.urlretrieve(H, 'Homework/{}.pdf'.format(name))\n",
    "    c += 1\n",
    "print('Homework and exams saved!\\n')"
   ]
  }
 ],
 "metadata": {
  "kernelspec": {
   "display_name": "Python 3",
   "language": "python",
   "name": "python3"
  },
  "language_info": {
   "codemirror_mode": {
    "name": "ipython",
    "version": 3
   },
   "file_extension": ".py",
   "mimetype": "text/x-python",
   "name": "python",
   "nbconvert_exporter": "python",
   "pygments_lexer": "ipython3",
   "version": "3.6.7"
  },
  "latex_envs": {
   "LaTeX_envs_menu_present": true,
   "autoclose": false,
   "autocomplete": true,
   "bibliofile": "biblio.bib",
   "cite_by": "apalike",
   "current_citInitial": 1,
   "eqLabelWithNumbers": true,
   "eqNumInitial": 1,
   "hotkeys": {
    "equation": "Ctrl-E",
    "itemize": "Ctrl-I"
   },
   "labels_anchors": false,
   "latex_user_defs": false,
   "report_style_numbering": false,
   "user_envs_cfg": false
  }
 },
 "nbformat": 4,
 "nbformat_minor": 2
}
